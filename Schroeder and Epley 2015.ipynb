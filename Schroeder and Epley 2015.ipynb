{
 "cells": [
  {
   "cell_type": "markdown",
   "metadata": {},
   "source": [
    "# Stats lab Schoeder and Epley 2015 Study 4.csv\n",
    "\n",
    "# Dowload data from https://drive.google.com/file/d/0Bz-rhZ21ShvOei1MM24xNndnQ00/view for analysis.\n",
    "\n",
    "### Stats labs presents published data for the paper above for analysis by independnt t-tests. Here the data is used to demonstrate anaysis on statically signifcant findings using Baeysian estimation methods.\n",
    "\n",
    "## stats lab  \n",
    "### STUDY DESCRIPTION\n",
    "### Imagine you were a job candidate trying to pitch your skills to a potential employer. Would you be more likely to get the job after giving a short speech describing your skills, or after writing a short speech andhaving a potential employer read those words? That was the question raised by Schroeder and Epley(2015). The authors predicted that a person’s speech (i.e., vocal tone, cadence, and pitch) communicatesinformation about their intellect better than their written words (even if they are the same words as inthe speech).To examine this possibility, the authors randomly assigned 39 professional recruiters for Fortune 500 companies to one of two conditions. In the audio condition, participants listened to audio recordings of ajob candidate’s spoken job pitch. In the transcript condition, participants read a transcription of the jobcandidate’s pitch. After hearing or reading the pitch, the participants rated the job candidates on threedimensions: intelligence, competence, and thoughtfulness. These ratings were then averaged to create a single measure of the job candidate’s intellect, with higher scores indicating the recruiters rated thecandidates as higher in intellect. The participants also rated their overall impression of the job candidate(a composite of two items measuring positive and negative impressions). Finally, the participants indicated how likely they would be to recommend hiring the job candidate (0 - not at all likely, 10 - extremely likely).\n"
   ]
  },
  {
   "cell_type": "markdown",
   "metadata": {},
   "source": [
    "# Import python libraries for Bayesian estimation of two independent means."
   ]
  },
  {
   "cell_type": "code",
   "execution_count": 2,
   "metadata": {},
   "outputs": [],
   "source": [
    "import matplotlib.pyplot as plt\n",
    "%matplotlib inline\n",
    "import os\n",
    "import numpy as np \n",
    "import pandas as pd\n",
    "import pystan as ps\n",
    "import arviz as az\n",
    "\n",
    "#Set working dircetory to wherever data is saved on local machine.\n",
    "\n",
    "os.chdir(r\"\\Users\\harri\\OneDrive\\Documents\\Stats 2\")"
   ]
  },
  {
   "cell_type": "code",
   "execution_count": 3,
   "metadata": {},
   "outputs": [
    {
     "data": {
      "text/html": [
       "<div>\n",
       "<style scoped>\n",
       "    .dataframe tbody tr th:only-of-type {\n",
       "        vertical-align: middle;\n",
       "    }\n",
       "\n",
       "    .dataframe tbody tr th {\n",
       "        vertical-align: top;\n",
       "    }\n",
       "\n",
       "    .dataframe thead th {\n",
       "        text-align: right;\n",
       "    }\n",
       "</style>\n",
       "<table border=\"1\" class=\"dataframe\">\n",
       "  <thead>\n",
       "    <tr style=\"text-align: right;\">\n",
       "      <th></th>\n",
       "      <th>CONDITION</th>\n",
       "      <th>compt</th>\n",
       "      <th>thought</th>\n",
       "      <th>intell</th>\n",
       "      <th>like</th>\n",
       "      <th>pos</th>\n",
       "      <th>neg</th>\n",
       "      <th>hire</th>\n",
       "      <th>age</th>\n",
       "      <th>gender</th>\n",
       "      <th>...</th>\n",
       "      <th>pnum</th>\n",
       "      <th>meanhire</th>\n",
       "      <th>meanintellect</th>\n",
       "      <th>meanimpression</th>\n",
       "      <th>centhire</th>\n",
       "      <th>centintellect</th>\n",
       "      <th>centimpression</th>\n",
       "      <th>Intellect_Rating</th>\n",
       "      <th>Impression_Rating</th>\n",
       "      <th>Hire_Rating</th>\n",
       "    </tr>\n",
       "  </thead>\n",
       "  <tbody>\n",
       "    <tr>\n",
       "      <td>0</td>\n",
       "      <td>1</td>\n",
       "      <td>7</td>\n",
       "      <td>7</td>\n",
       "      <td>7</td>\n",
       "      <td>7</td>\n",
       "      <td>7</td>\n",
       "      <td>1</td>\n",
       "      <td>7</td>\n",
       "      <td>29</td>\n",
       "      <td>2</td>\n",
       "      <td>...</td>\n",
       "      <td>1</td>\n",
       "      <td>4.583333</td>\n",
       "      <td>5.722222</td>\n",
       "      <td>6.638889</td>\n",
       "      <td>2.416667</td>\n",
       "      <td>1.277778</td>\n",
       "      <td>1.361111</td>\n",
       "      <td>6.000000</td>\n",
       "      <td>7.000000</td>\n",
       "      <td>6</td>\n",
       "    </tr>\n",
       "    <tr>\n",
       "      <td>1</td>\n",
       "      <td>1</td>\n",
       "      <td>6</td>\n",
       "      <td>8</td>\n",
       "      <td>6</td>\n",
       "      <td>6</td>\n",
       "      <td>6</td>\n",
       "      <td>6</td>\n",
       "      <td>5</td>\n",
       "      <td>27</td>\n",
       "      <td>2</td>\n",
       "      <td>...</td>\n",
       "      <td>2</td>\n",
       "      <td>4.666667</td>\n",
       "      <td>5.577778</td>\n",
       "      <td>5.777778</td>\n",
       "      <td>0.333333</td>\n",
       "      <td>1.088889</td>\n",
       "      <td>-0.111111</td>\n",
       "      <td>5.666667</td>\n",
       "      <td>4.666667</td>\n",
       "      <td>4</td>\n",
       "    </tr>\n",
       "    <tr>\n",
       "      <td>2</td>\n",
       "      <td>1</td>\n",
       "      <td>7</td>\n",
       "      <td>8</td>\n",
       "      <td>6</td>\n",
       "      <td>9</td>\n",
       "      <td>9</td>\n",
       "      <td>1</td>\n",
       "      <td>6</td>\n",
       "      <td>27</td>\n",
       "      <td>2</td>\n",
       "      <td>...</td>\n",
       "      <td>3</td>\n",
       "      <td>4.666667</td>\n",
       "      <td>5.577778</td>\n",
       "      <td>5.777778</td>\n",
       "      <td>1.333333</td>\n",
       "      <td>1.422222</td>\n",
       "      <td>3.555556</td>\n",
       "      <td>6.000000</td>\n",
       "      <td>8.333333</td>\n",
       "      <td>5</td>\n",
       "    </tr>\n",
       "    <tr>\n",
       "      <td>3</td>\n",
       "      <td>0</td>\n",
       "      <td>4</td>\n",
       "      <td>3</td>\n",
       "      <td>6</td>\n",
       "      <td>6</td>\n",
       "      <td>6</td>\n",
       "      <td>6</td>\n",
       "      <td>5</td>\n",
       "      <td>40</td>\n",
       "      <td>2</td>\n",
       "      <td>...</td>\n",
       "      <td>4</td>\n",
       "      <td>4.583333</td>\n",
       "      <td>5.722222</td>\n",
       "      <td>6.638889</td>\n",
       "      <td>0.416667</td>\n",
       "      <td>-1.388889</td>\n",
       "      <td>-0.972222</td>\n",
       "      <td>3.333333</td>\n",
       "      <td>4.666667</td>\n",
       "      <td>4</td>\n",
       "    </tr>\n",
       "    <tr>\n",
       "      <td>4</td>\n",
       "      <td>0</td>\n",
       "      <td>2</td>\n",
       "      <td>3</td>\n",
       "      <td>1</td>\n",
       "      <td>2</td>\n",
       "      <td>2</td>\n",
       "      <td>8</td>\n",
       "      <td>2</td>\n",
       "      <td>32</td>\n",
       "      <td>2</td>\n",
       "      <td>...</td>\n",
       "      <td>5</td>\n",
       "      <td>4.583333</td>\n",
       "      <td>5.722222</td>\n",
       "      <td>6.638889</td>\n",
       "      <td>-2.583333</td>\n",
       "      <td>-3.722222</td>\n",
       "      <td>-4.305556</td>\n",
       "      <td>1.000000</td>\n",
       "      <td>1.333333</td>\n",
       "      <td>1</td>\n",
       "    </tr>\n",
       "  </tbody>\n",
       "</table>\n",
       "<p>5 rows × 26 columns</p>\n",
       "</div>"
      ],
      "text/plain": [
       "   CONDITION  compt  thought  intell  like  pos  neg  hire age gender  ...  \\\n",
       "0          1      7        7       7     7    7    1     7  29      2  ...   \n",
       "1          1      6        8       6     6    6    6     5  27      2  ...   \n",
       "2          1      7        8       6     9    9    1     6  27      2  ...   \n",
       "3          0      4        3       6     6    6    6     5  40      2  ...   \n",
       "4          0      2        3       1     2    2    8     2  32      2  ...   \n",
       "\n",
       "   pnum  meanhire  meanintellect  meanimpression  centhire  centintellect  \\\n",
       "0     1  4.583333       5.722222        6.638889  2.416667       1.277778   \n",
       "1     2  4.666667       5.577778        5.777778  0.333333       1.088889   \n",
       "2     3  4.666667       5.577778        5.777778  1.333333       1.422222   \n",
       "3     4  4.583333       5.722222        6.638889  0.416667      -1.388889   \n",
       "4     5  4.583333       5.722222        6.638889 -2.583333      -3.722222   \n",
       "\n",
       "   centimpression  Intellect_Rating  Impression_Rating  Hire_Rating  \n",
       "0        1.361111          6.000000           7.000000            6  \n",
       "1       -0.111111          5.666667           4.666667            4  \n",
       "2        3.555556          6.000000           8.333333            5  \n",
       "3       -0.972222          3.333333           4.666667            4  \n",
       "4       -4.305556          1.000000           1.333333            1  \n",
       "\n",
       "[5 rows x 26 columns]"
      ]
     },
     "execution_count": 3,
     "metadata": {},
     "output_type": "execute_result"
    }
   ],
   "source": [
    "#Read CSV into Jupyter notebook.\n",
    "\n",
    "df = pd.read_csv(\"Schroeder and Epley 2015 Study 4 data.csv\")\n",
    "df.head()"
   ]
  },
  {
   "cell_type": "code",
   "execution_count": 4,
   "metadata": {},
   "outputs": [
    {
     "data": {
      "text/html": [
       "<div>\n",
       "<style scoped>\n",
       "    .dataframe tbody tr th:only-of-type {\n",
       "        vertical-align: middle;\n",
       "    }\n",
       "\n",
       "    .dataframe tbody tr th {\n",
       "        vertical-align: top;\n",
       "    }\n",
       "\n",
       "    .dataframe thead th {\n",
       "        text-align: right;\n",
       "    }\n",
       "</style>\n",
       "<table border=\"1\" class=\"dataframe\">\n",
       "  <thead>\n",
       "    <tr style=\"text-align: right;\">\n",
       "      <th></th>\n",
       "      <th>CONDITION</th>\n",
       "      <th>compt</th>\n",
       "      <th>thought</th>\n",
       "      <th>intell</th>\n",
       "      <th>like</th>\n",
       "      <th>pos</th>\n",
       "      <th>neg</th>\n",
       "      <th>hire</th>\n",
       "      <th>age</th>\n",
       "      <th>gender</th>\n",
       "      <th>...</th>\n",
       "      <th>pnum</th>\n",
       "      <th>meanhire</th>\n",
       "      <th>meanintellect</th>\n",
       "      <th>meanimpression</th>\n",
       "      <th>centhire</th>\n",
       "      <th>centintellect</th>\n",
       "      <th>centimpression</th>\n",
       "      <th>Intellect_Rating</th>\n",
       "      <th>Impression_Rating</th>\n",
       "      <th>Hire_Rating</th>\n",
       "    </tr>\n",
       "  </thead>\n",
       "  <tbody>\n",
       "    <tr>\n",
       "      <td>0</td>\n",
       "      <td>1</td>\n",
       "      <td>7</td>\n",
       "      <td>7</td>\n",
       "      <td>7</td>\n",
       "      <td>7</td>\n",
       "      <td>7</td>\n",
       "      <td>1</td>\n",
       "      <td>7</td>\n",
       "      <td>29</td>\n",
       "      <td>2</td>\n",
       "      <td>...</td>\n",
       "      <td>1</td>\n",
       "      <td>4.583333</td>\n",
       "      <td>5.722222</td>\n",
       "      <td>6.638889</td>\n",
       "      <td>2.416667</td>\n",
       "      <td>1.277778</td>\n",
       "      <td>1.361111</td>\n",
       "      <td>6.000000</td>\n",
       "      <td>7.000000</td>\n",
       "      <td>6</td>\n",
       "    </tr>\n",
       "    <tr>\n",
       "      <td>1</td>\n",
       "      <td>1</td>\n",
       "      <td>6</td>\n",
       "      <td>8</td>\n",
       "      <td>6</td>\n",
       "      <td>6</td>\n",
       "      <td>6</td>\n",
       "      <td>6</td>\n",
       "      <td>5</td>\n",
       "      <td>27</td>\n",
       "      <td>2</td>\n",
       "      <td>...</td>\n",
       "      <td>2</td>\n",
       "      <td>4.666667</td>\n",
       "      <td>5.577778</td>\n",
       "      <td>5.777778</td>\n",
       "      <td>0.333333</td>\n",
       "      <td>1.088889</td>\n",
       "      <td>-0.111111</td>\n",
       "      <td>5.666667</td>\n",
       "      <td>4.666667</td>\n",
       "      <td>4</td>\n",
       "    </tr>\n",
       "    <tr>\n",
       "      <td>2</td>\n",
       "      <td>1</td>\n",
       "      <td>7</td>\n",
       "      <td>8</td>\n",
       "      <td>6</td>\n",
       "      <td>9</td>\n",
       "      <td>9</td>\n",
       "      <td>1</td>\n",
       "      <td>6</td>\n",
       "      <td>27</td>\n",
       "      <td>2</td>\n",
       "      <td>...</td>\n",
       "      <td>3</td>\n",
       "      <td>4.666667</td>\n",
       "      <td>5.577778</td>\n",
       "      <td>5.777778</td>\n",
       "      <td>1.333333</td>\n",
       "      <td>1.422222</td>\n",
       "      <td>3.555556</td>\n",
       "      <td>6.000000</td>\n",
       "      <td>8.333333</td>\n",
       "      <td>5</td>\n",
       "    </tr>\n",
       "    <tr>\n",
       "      <td>6</td>\n",
       "      <td>1</td>\n",
       "      <td>5</td>\n",
       "      <td>4</td>\n",
       "      <td>5</td>\n",
       "      <td>4</td>\n",
       "      <td>2</td>\n",
       "      <td>6</td>\n",
       "      <td>2</td>\n",
       "      <td>29</td>\n",
       "      <td>2</td>\n",
       "      <td>...</td>\n",
       "      <td>7</td>\n",
       "      <td>5.416667</td>\n",
       "      <td>5.888889</td>\n",
       "      <td>5.944444</td>\n",
       "      <td>-3.416667</td>\n",
       "      <td>-1.222222</td>\n",
       "      <td>-2.277778</td>\n",
       "      <td>3.666667</td>\n",
       "      <td>2.666667</td>\n",
       "      <td>1</td>\n",
       "    </tr>\n",
       "    <tr>\n",
       "      <td>8</td>\n",
       "      <td>1</td>\n",
       "      <td>6</td>\n",
       "      <td>6</td>\n",
       "      <td>6</td>\n",
       "      <td>4</td>\n",
       "      <td>4</td>\n",
       "      <td>3</td>\n",
       "      <td>4</td>\n",
       "      <td>28</td>\n",
       "      <td>2</td>\n",
       "      <td>...</td>\n",
       "      <td>9</td>\n",
       "      <td>4.666667</td>\n",
       "      <td>5.577778</td>\n",
       "      <td>5.777778</td>\n",
       "      <td>-0.666667</td>\n",
       "      <td>0.422222</td>\n",
       "      <td>-0.444444</td>\n",
       "      <td>5.000000</td>\n",
       "      <td>4.333333</td>\n",
       "      <td>3</td>\n",
       "    </tr>\n",
       "  </tbody>\n",
       "</table>\n",
       "<p>5 rows × 26 columns</p>\n",
       "</div>"
      ],
      "text/plain": [
       "   CONDITION  compt  thought  intell  like  pos  neg  hire age gender  ...  \\\n",
       "0          1      7        7       7     7    7    1     7  29      2  ...   \n",
       "1          1      6        8       6     6    6    6     5  27      2  ...   \n",
       "2          1      7        8       6     9    9    1     6  27      2  ...   \n",
       "6          1      5        4       5     4    2    6     2  29      2  ...   \n",
       "8          1      6        6       6     4    4    3     4  28      2  ...   \n",
       "\n",
       "   pnum  meanhire  meanintellect  meanimpression  centhire  centintellect  \\\n",
       "0     1  4.583333       5.722222        6.638889  2.416667       1.277778   \n",
       "1     2  4.666667       5.577778        5.777778  0.333333       1.088889   \n",
       "2     3  4.666667       5.577778        5.777778  1.333333       1.422222   \n",
       "6     7  5.416667       5.888889        5.944444 -3.416667      -1.222222   \n",
       "8     9  4.666667       5.577778        5.777778 -0.666667       0.422222   \n",
       "\n",
       "   centimpression  Intellect_Rating  Impression_Rating  Hire_Rating  \n",
       "0        1.361111          6.000000           7.000000            6  \n",
       "1       -0.111111          5.666667           4.666667            4  \n",
       "2        3.555556          6.000000           8.333333            5  \n",
       "6       -2.277778          3.666667           2.666667            1  \n",
       "8       -0.444444          5.000000           4.333333            3  \n",
       "\n",
       "[5 rows x 26 columns]"
      ]
     },
     "execution_count": 4,
     "metadata": {},
     "output_type": "execute_result"
    }
   ],
   "source": [
    "#Subseting data frame for the audio condition. \n",
    "\n",
    "Audio = df[df[\"CONDITION\"] == 1]\n",
    "Audio.head()"
   ]
  },
  {
   "cell_type": "code",
   "execution_count": 5,
   "metadata": {},
   "outputs": [],
   "source": [
    "#Subseting data frame for the transcript condition. \n",
    "\n",
    "Transcript = df[df[\"CONDITION\"] == 0]"
   ]
  },
  {
   "cell_type": "code",
   "execution_count": 6,
   "metadata": {},
   "outputs": [
    {
     "data": {
      "text/plain": [
       "array([3.33333333, 1.        , 2.        , 1.66666667, 3.66666667,\n",
       "       5.66666667, 3.66666667, 0.66666667, 4.66666667, 3.66666667,\n",
       "       7.        , 1.66666667, 6.33333333, 3.66666667, 3.33333333,\n",
       "       2.33333333, 4.66666667, 6.66666667])"
      ]
     },
     "execution_count": 6,
     "metadata": {},
     "output_type": "execute_result"
    },
    {
     "data": {
      "image/png": "[encoded data removed]",
      "text/plain": [
       "<Figure size 432x288 with 1 Axes>"
      ]
     },
     "metadata": {
      "needs_background": "light"
     },
     "output_type": "display_data"
    }
   ],
   "source": [
    "#Plot Histogram (needs to be formatted nicer)\n",
    "\n",
    "plt.hist(Transcript[\"Intellect_Rating\"]);\n",
    "plt.show\n",
    "\n",
    "#Extracting Intellect_rating from the subest data set of transcript condition dataframe,\n",
    "#and then convert to numpy array fro input to stan model.\n",
    "\n",
    "T_Intellect = Transcript[\"Intellect_Rating\"].to_numpy()\n",
    "T_Intellect"
   ]
  },
  {
   "cell_type": "code",
   "execution_count": 7,
   "metadata": {},
   "outputs": [
    {
     "data": {
      "image/png": "[encoded data removed]",
      "text/plain": [
       "<Figure size 432x288 with 1 Axes>"
      ]
     },
     "metadata": {
      "needs_background": "light"
     },
     "output_type": "display_data"
    }
   ],
   "source": [
    "#Plot Histogram (needs to be formatted nicer)\n",
    "\n",
    "plt.hist(Audio[\"Intellect_Rating\"]);\n",
    "plt.show\n",
    "A_Intellect = Audio[\"Intellect_Rating\"].to_numpy()"
   ]
  },
  {
   "cell_type": "markdown",
   "metadata": {},
   "source": [
    "### Between subject Bayseain estimation of means using Stan. Simplest model Estimating just the Means and difference of two independent groups, with default prior on the all the estiated parameters. this presents a completely ignorant postion on the data, leading to similar results as maximum lilhood estimation. (Note to self find realistic priors for suc an analysis).\n",
    "# $$y_{1} \\sim {\\sf N(\\mu,\\sigma)}$$ $$y_{2} \\sim {\\sf N(\\mu_{1},\\sigma)}$$$$\\mu_{1}\\sim U(-\\infty,+\\infty)$$$$\\mu_{2}\\sim U(-\\infty,+\\infty)$$$$\\sigma\\sim U(-\\infty,+\\infty) $$\n"
   ]
  },
  {
   "cell_type": "code",
   "execution_count": 73,
   "metadata": {},
   "outputs": [],
   "source": [
    "#Stan code for mean estiation model witn nomal likl\n",
    "Intellect_Model_t = \"\"\"\n",
    "\n",
    "data {\n",
    "  int<lower=0> N1;  // # of observations (Audio)\n",
    "  int<lower=0> N2;  // # of observations (Transcript)\n",
    "  vector[N1] Y1;  // Intelligence rating (Audio)\n",
    "  vector[N2] Y2;  // Intelligence rating (Transcript)\n",
    "}\n",
    "\n",
    "parameters {\n",
    "  real mu_1;  //\n",
    "  real mu_2;  // \n",
    "  real<lower=0> sigma; // pooled standard deviation\n",
    "}\n",
    "\n",
    "model {\n",
    "// likelihood\n",
    "  Y1 ~ normal(mu_1, sigma);\n",
    "  Y2 ~ normal(mu_2, sigma);\n",
    "}\n",
    "\n",
    "generated quantities {\n",
    "  real cohen_d = (mu_2 - mu_1) / sigma; //effect size;\n",
    "}\n",
    "\n",
    "\"\"\""
   ]
  },
  {
   "cell_type": "code",
   "execution_count": 74,
   "metadata": {},
   "outputs": [
    {
     "name": "stderr",
     "output_type": "stream",
     "text": [
      "WARNING:pystan:DeprecationWarning: pystan.stan was deprecated in version 2.17 and will be removed in version 3.0. Compile and use a Stan program in separate steps.\n",
      "INFO:pystan:COMPILING THE C++ CODE FOR MODEL anon_model_02f494c216c4d6b6ab2bd273ed6c29ba NOW.\n"
     ]
    }
   ],
   "source": [
    "#Python dictionary formating the data to pass into stan.\n",
    "\n",
    "Intellect_Model_t_dat = {'N1': len(A_Intellect) ,\n",
    "               'N2': len(T_Intellect),\n",
    "               'Y1': A_Intellect,\n",
    "               'Y2': T_Intellect}\n",
    "\n",
    "fit_Intellect_diff = ps.stan(model_code = Intellect_Model_t, data = Intellect_Model_t_dat, iter=2000, chains=4)\n"
   ]
  },
  {
   "cell_type": "code",
   "execution_count": 75,
   "metadata": {},
   "outputs": [
    {
     "name": "stdout",
     "output_type": "stream",
     "text": [
      "Inference for Stan model: anon_model_02f494c216c4d6b6ab2bd273ed6c29ba.\n",
      "4 chains, each with iter=2000; warmup=1000; thin=1; \n",
      "post-warmup draws per chain=1000, total post-warmup draws=4000.\n",
      "\n",
      "          mean se_mean     sd   2.5%    25%    50%    75%  97.5%  n_eff   Rhat\n",
      "mu_1      5.63  6.9e-3   0.39   4.84   5.37   5.64   5.91   6.38   3250    1.0\n",
      "mu_2      3.65  7.3e-3   0.42   2.83   3.37   3.64   3.92   4.48   3296    1.0\n",
      "sigma     1.82  4.0e-3   0.22   1.44   1.66   1.79   1.96   2.32   3191    1.0\n",
      "cohen_d  -1.11  5.8e-3   0.35  -1.82  -1.34   -1.1  -0.88  -0.43   3591    1.0\n",
      "lp__    -41.39    0.03   1.23 -44.56 -41.94 -41.06 -40.51 -39.98   2052    1.0\n",
      "\n",
      "Samples were drawn using NUTS at Wed Oct 28 12:48:27 2020.\n",
      "For each parameter, n_eff is a crude measure of effective sample size,\n",
      "and Rhat is the potential scale reduction factor on split chains (at \n",
      "convergence, Rhat=1).\n"
     ]
    }
   ],
   "source": [
    "print(fit_Intellect_diff)"
   ]
  },
  {
   "cell_type": "code",
   "execution_count": 76,
   "metadata": {},
   "outputs": [
    {
     "data": {
      "text/plain": [
       "array([<matplotlib.axes._subplots.AxesSubplot object at 0x0000020881901E08>,\n",
       "       <matplotlib.axes._subplots.AxesSubplot object at 0x00000208806BC208>,\n",
       "       <matplotlib.axes._subplots.AxesSubplot object at 0x0000020881B47108>,\n",
       "       <matplotlib.axes._subplots.AxesSubplot object at 0x00000208FCF2C088>],\n",
       "      dtype=object)"
      ]
     },
     "execution_count": 76,
     "metadata": {},
     "output_type": "execute_result"
    },
    {
     "data": {
      "image/png": "[encoded data removed]",
      "text/plain": [
       "<Figure size 1987.2x331.2 with 4 Axes>"
      ]
     },
     "metadata": {
      "needs_background": "light"
     },
     "output_type": "display_data"
    }
   ],
   "source": [
    "az.plot_posterior(fit_Intellect_diff)"
   ]
  },
  {
   "cell_type": "markdown",
   "metadata": {},
   "source": [
    "# Highest density interval estimate for the standardised effect size (Cohen d) does not cross the 0 so the credibilty values suggest that Audio group got  higher mean intellect score rating from the professional revieiwers."
   ]
  },
  {
   "cell_type": "code",
   "execution_count": null,
   "metadata": {},
   "outputs": [],
   "source": [
    "\n",
    "\n",
    "#az.plot_trace(fit)"
   ]
  },
  {
   "cell_type": "code",
   "execution_count": 82,
   "metadata": {},
   "outputs": [
    {
     "data": {
      "text/plain": [
       "(array([2., 1., 1., 3., 0., 3., 3., 3., 2., 3.]),\n",
       " array([2.33333333, 2.96666667, 3.6       , 4.23333333, 4.86666667,\n",
       "        5.5       , 6.13333333, 6.76666667, 7.4       , 8.03333333,\n",
       "        8.66666667]),\n",
       " <a list of 10 Patch objects>)"
      ]
     },
     "execution_count": 82,
     "metadata": {},
     "output_type": "execute_result"
    },
    {
     "data": {
      "image/png": "[encoded data removed]",
      "text/plain": [
       "<Figure size 432x288 with 1 Axes>"
      ]
     },
     "metadata": {
      "needs_background": "light"
     },
     "output_type": "display_data"
    }
   ],
   "source": [
    "A_Impression = Audio[\"Impression_Rating\"].to_numpy()\n",
    "plt.hist(A_Impression)"
   ]
  },
  {
   "cell_type": "code",
   "execution_count": 83,
   "metadata": {},
   "outputs": [
    {
     "data": {
      "text/plain": [
       "(array([2., 2., 1., 1., 1., 2., 2., 3., 1., 3.]),\n",
       " array([0.33333333, 1.03333333, 1.73333333, 2.43333333, 3.13333333,\n",
       "        3.83333333, 4.53333333, 5.23333333, 5.93333333, 6.63333333,\n",
       "        7.33333333]),\n",
       " <a list of 10 Patch objects>)"
      ]
     },
     "execution_count": 83,
     "metadata": {},
     "output_type": "execute_result"
    },
    {
     "data": {
      "image/png": "[encoded data removed]",
      "text/plain": [
       "<Figure size 432x288 with 1 Axes>"
      ]
     },
     "metadata": {
      "needs_background": "light"
     },
     "output_type": "display_data"
    }
   ],
   "source": [
    "T_Impression = Transcript[\"Impression_Rating\"].to_numpy()\n",
    "plt.hist(T_Impression)"
   ]
  },
  {
   "cell_type": "markdown",
   "metadata": {},
   "source": [
    "# Stan Model code for estimating two independnent means and pooled Standard devation for estimating effect size (Cohen d). Using Default priors. By using these default priors results are simlar to maximum liklihoodestimation analysis.\n",
    "\n",
    "### $$y_{1} \\sim {\\sf N(\\mu,\\sigma)}$$ $$y_{2} \\sim {\\sf N(\\mu,\\sigma)}$$$$\\mu\\sim U(-\\infty,+\\infty)$$$$\\mu\\sim U(-\\infty,+\\infty)$$$$\\sigma\\sim U(-\\infty,+\\infty) $$"
   ]
  },
  {
   "cell_type": "code",
   "execution_count": 87,
   "metadata": {},
   "outputs": [],
   "source": [
    "Impression_Model_t = \"\"\"\n",
    "\n",
    "data {\n",
    "  int<lower=0> N1;  // # of observations (Audio)\n",
    "  int<lower=0> N2;  // # of observations (Transcript)\n",
    "  vector[N1] Y1;  // Impression rating (Audio)\n",
    "  vector[N2] Y2;  // Impression rating (Transcript)\n",
    "}\n",
    "\n",
    "parameters {\n",
    "  real mu_1;  //\n",
    "  real mu_2;  // \n",
    "  real<lower=0> sigma; // pooled standard deviation\n",
    "}\n",
    "\n",
    "model {\n",
    "\n",
    "//likelihood \n",
    "  Y1 ~ normal(mu_1, sigma);\n",
    "  Y2 ~ normal(mu_2, sigma);\n",
    "}\n",
    "\n",
    "generated quantities {\n",
    "  real cohen_d = (mu_2 - mu_1) / sigma; //effect size;\n",
    "}\n",
    "\n",
    "\"\"\""
   ]
  },
  {
   "cell_type": "code",
   "execution_count": 88,
   "metadata": {},
   "outputs": [
    {
     "name": "stderr",
     "output_type": "stream",
     "text": [
      "WARNING:pystan:DeprecationWarning: pystan.stan was deprecated in version 2.17 and will be removed in version 3.0. Compile and use a Stan program in separate steps.\n",
      "INFO:pystan:COMPILING THE C++ CODE FOR MODEL anon_model_5ab3d123523aa029cc55bf87cd11da8e NOW.\n"
     ]
    }
   ],
   "source": [
    "Impression_Model_t_dat = {'N1': len(A_Impression) ,\n",
    "               'N2': len(T_Impression),\n",
    "               'Y1': A_Impression,\n",
    "               'Y2': T_Impression}\n",
    "\n",
    "fit_Impression_diff = ps.stan(model_code = Impression_Model_t, data = Impression_Model_t_dat, iter=2000, chains=4)\n"
   ]
  },
  {
   "cell_type": "code",
   "execution_count": 89,
   "metadata": {},
   "outputs": [
    {
     "name": "stdout",
     "output_type": "stream",
     "text": [
      "Inference for Stan model: anon_model_5ab3d123523aa029cc55bf87cd11da8e.\n",
      "4 chains, each with iter=2000; warmup=1000; thin=1; \n",
      "post-warmup draws per chain=1000, total post-warmup draws=4000.\n",
      "\n",
      "          mean se_mean     sd   2.5%    25%    50%    75%  97.5%  n_eff   Rhat\n",
      "mu_1      5.97  8.1e-3   0.47   5.03   5.66   5.97   6.28   6.91   3389    1.0\n",
      "mu_2      4.07  8.6e-3   0.51   3.08   3.72   4.06   4.41   5.07   3477    1.0\n",
      "sigma     2.14  5.2e-3   0.26   1.71   1.96   2.12    2.3   2.74   2546    1.0\n",
      "cohen_d   -0.9  5.7e-3   0.33  -1.55  -1.12   -0.9  -0.67  -0.24   3371    1.0\n",
      "lp__    -47.68    0.03   1.26 -50.95 -48.24 -47.35 -46.75 -46.23   1680    1.0\n",
      "\n",
      "Samples were drawn using NUTS at Wed Oct 28 13:01:58 2020.\n",
      "For each parameter, n_eff is a crude measure of effective sample size,\n",
      "and Rhat is the potential scale reduction factor on split chains (at \n",
      "convergence, Rhat=1).\n"
     ]
    }
   ],
   "source": [
    "print(fit_Impression_diff)"
   ]
  },
  {
   "cell_type": "markdown",
   "metadata": {},
   "source": [
    "# Highest density interval estimate for the standardised effect size (Cohen d) does not cross the 0 so the credibilty values suggest that Audio group got  higher mean impression score rating from the professional reviewers."
   ]
  },
  {
   "cell_type": "markdown",
   "metadata": {},
   "source": [
    "## (Need to learn how to conduct prior predtive checks and posterior predictive checks with python/pystan.). aditonally thsdat i snot mornally distributed (by eye on the histograms), this will need to be to deal with bayesian methods but I need to learn it."
   ]
  }
 ],
 "metadata": {
  "kernelspec": {
   "display_name": "Python 3",
   "language": "python",
   "name": "python3"
  },
  "language_info": {
   "codemirror_mode": {
    "name": "ipython",
    "version": 3
   },
   "file_extension": ".py",
   "mimetype": "text/x-python",
   "name": "python",
   "nbconvert_exporter": "python",
   "pygments_lexer": "ipython3",
   "version": "3.7.4"
  }
 },
 "nbformat": 4,
 "nbformat_minor": 2
}
